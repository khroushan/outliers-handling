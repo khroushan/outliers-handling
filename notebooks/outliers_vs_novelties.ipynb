{
 "cells": [
  {
   "cell_type": "markdown",
   "id": "occupied-growth",
   "metadata": {},
   "source": [
    "## Outlier vs. Novelty"
   ]
  },
  {
   "cell_type": "markdown",
   "id": "lightweight-archive",
   "metadata": {},
   "source": [
    "Outlier detection helps to make a more robust machine learning model in different ways. However imagine that the generating provess evolve over time and that can be a source of change in data pattern. On the other hand, a comparatively sudden change in the pattern does not necessarily mean that the data point is a outlier.\n",
    "\n",
    "Imagine a factory, if the factory introduce a new product into its production line, there would be a some new data points that are not fallen into the region of past point bu they populate a new region in the feature space. And here comes the actual difference between outliers and novelty. Since there is no unique process of generating outliers (if it would then you can simply make a predictive model for them.) they are scattered in the feature space. On the other hand novelties due to their underlying process occupy cetrain limited in the feature space with high frequency. "
   ]
  },
  {
   "cell_type": "code",
   "execution_count": null,
   "id": "searching-window",
   "metadata": {},
   "outputs": [],
   "source": []
  }
 ],
 "metadata": {
  "kernelspec": {
   "display_name": "Python 3",
   "language": "python",
   "name": "python3"
  },
  "language_info": {
   "codemirror_mode": {
    "name": "ipython",
    "version": 3
   },
   "file_extension": ".py",
   "mimetype": "text/x-python",
   "name": "python",
   "nbconvert_exporter": "python",
   "pygments_lexer": "ipython3",
   "version": "3.7.6"
  }
 },
 "nbformat": 4,
 "nbformat_minor": 5
}
