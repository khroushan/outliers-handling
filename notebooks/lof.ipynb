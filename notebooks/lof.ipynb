{
 "cells": [
  {
   "cell_type": "markdown",
   "id": "597a95fe",
   "metadata": {},
   "source": [
    "## Purpose of Notebook\n",
    "\n",
    "- Last update: 28 Jun 2021\n",
    "\n",
    "Study *Local Outlier factor*"
   ]
  },
  {
   "cell_type": "code",
   "execution_count": 70,
   "id": "df7b7faa",
   "metadata": {},
   "outputs": [],
   "source": [
    "import numpy as np\n",
    "import matplotlib.pyplot as pl\n",
    "\n",
    "from sklearn.datasets import make_moons,\\\n",
    "                             make_blobs,\\\n",
    "                             samples_generator,\\\n",
    "                             make_friedman1\n",
    "from sklearn.neighbors import LocalOutlierFactor"
   ]
  },
  {
   "cell_type": "markdown",
   "id": "96e10fbf",
   "metadata": {},
   "source": [
    "### Generate dataset"
   ]
  },
  {
   "cell_type": "code",
   "execution_count": 34,
   "id": "f3b7cace",
   "metadata": {},
   "outputs": [],
   "source": [
    "# Example settings\n",
    "n_samples = 300\n",
    "outliers_fraction = 0.15\n",
    "n_outliers = int(outliers_fraction * n_samples)\n",
    "n_inliers = n_samples - n_outliers\n",
    "\n",
    "rng = np.random.RandomState(42)"
   ]
  },
  {
   "cell_type": "code",
   "execution_count": 3,
   "id": "1e86f6b0",
   "metadata": {},
   "outputs": [],
   "source": [
    "blobs_params = dict(random_state=0, n_samples=n_inliers, n_features=2)\n",
    "datasets = [\n",
    "    make_blobs(centers=[[0, 0], [0, 0]], cluster_std=0.5,\n",
    "               **blobs_params)[0],\n",
    "    make_blobs(centers=[[2, 2], [-2, -2]], cluster_std=[0.5, 0.5],\n",
    "               **blobs_params)[0],\n",
    "    make_blobs(centers=[[2, 2], [-2, -2]], cluster_std=[1.5, .3],\n",
    "               **blobs_params)[0],\n",
    "    4. * (make_moons(n_samples=n_samples, noise=.05, random_state=0)[0] -\n",
    "          np.array([0.5, 0.25])),\n",
    "    14. * (np.random.RandomState(42).rand(n_samples, 2) - 0.5)]"
   ]
  },
  {
   "cell_type": "code",
   "execution_count": 4,
   "id": "8c7c1b5f",
   "metadata": {},
   "outputs": [],
   "source": [
    "lof = LocalOutlierFactor(n_neighbors=30, contamination= outliers_fraction)"
   ]
  },
  {
   "cell_type": "code",
   "execution_count": 46,
   "id": "98cebf64",
   "metadata": {},
   "outputs": [],
   "source": [
    "X_w_outlier = np.concatenate([datasets[0], rng.uniform(low=-6, high=6,\n",
    "                       size=(n_outliers, 2))], axis=0)\n",
    "y_pred = lof.fit_predict(X_w_outlier)"
   ]
  },
  {
   "cell_type": "code",
   "execution_count": 59,
   "id": "261f56f4",
   "metadata": {},
   "outputs": [
    {
     "data": {
      "text/plain": [
       "298"
      ]
     },
     "execution_count": 59,
     "metadata": {},
     "output_type": "execute_result"
    }
   ],
   "source": [
    "((y_pred>0) == (lof.negative_outlier_factor_ > -2.7)).sum()"
   ]
  },
  {
   "cell_type": "code",
   "execution_count": 61,
   "id": "9a7bf3f1",
   "metadata": {},
   "outputs": [
    {
     "data": {
      "text/plain": [
       "(array([  1.,   0.,   1.,   0.,   0.,   0.,   1.,   0.,   0.,   0.,   1.,\n",
       "          0.,   0.,   0.,   0.,   1.,   2.,   4.,   1.,   1.,   1.,   3.,\n",
       "          3.,   4.,   3.,   3.,   1.,   2.,   4.,   2.,   3.,   0.,   0.,\n",
       "          0.,   0.,   1.,   0.,   0.,   0.,   1.,   0.,   0.,   0.,   0.,\n",
       "          7.,   3.,  14.,  28.,  51., 153.]),\n",
       " array([-8.22056428, -8.07532489, -7.9300855 , -7.78484611, -7.63960672,\n",
       "        -7.49436733, -7.34912794, -7.20388855, -7.05864916, -6.91340977,\n",
       "        -6.76817039, -6.622931  , -6.47769161, -6.33245222, -6.18721283,\n",
       "        -6.04197344, -5.89673405, -5.75149466, -5.60625527, -5.46101588,\n",
       "        -5.31577649, -5.1705371 , -5.02529771, -4.88005832, -4.73481893,\n",
       "        -4.58957955, -4.44434016, -4.29910077, -4.15386138, -4.00862199,\n",
       "        -3.8633826 , -3.71814321, -3.57290382, -3.42766443, -3.28242504,\n",
       "        -3.13718565, -2.99194626, -2.84670687, -2.70146748, -2.55622809,\n",
       "        -2.4109887 , -2.26574932, -2.12050993, -1.97527054, -1.83003115,\n",
       "        -1.68479176, -1.53955237, -1.39431298, -1.24907359, -1.1038342 ,\n",
       "        -0.95859481]),\n",
       " <BarContainer object of 50 artists>)"
      ]
     },
     "execution_count": 61,
     "metadata": {},
     "output_type": "execute_result"
    },
    {
     "data": {
      "image/png": "[encoded data removed]",
      "text/plain": [
       "<Figure size 432x288 with 1 Axes>"
      ]
     },
     "metadata": {
      "needs_background": "light"
     },
     "output_type": "display_data"
    }
   ],
   "source": [
    "pl.hist(lof.negative_outlier_factor_, bins=50)"
   ]
  },
  {
   "cell_type": "code",
   "execution_count": 63,
   "id": "298622d1",
   "metadata": {},
   "outputs": [
    {
     "data": {
      "text/plain": [
       "<matplotlib.collections.PathCollection at 0x7fea2137dd50>"
      ]
     },
     "execution_count": 63,
     "metadata": {},
     "output_type": "execute_result"
    },
    {
     "data": {
      "image/png": "[encoded data removed]",
      "text/plain": [
       "<Figure size 432x432 with 1 Axes>"
      ]
     },
     "metadata": {
      "needs_background": "light"
     },
     "output_type": "display_data"
    }
   ],
   "source": [
    "pl.figure(figsize=(6,6))\n",
    "pl.scatter(X_w_outlier[:,0], X_w_outlier[:,1])"
   ]
  },
  {
   "cell_type": "code",
   "execution_count": 75,
   "id": "ff8596b2",
   "metadata": {},
   "outputs": [],
   "source": [
    "n_samples = 300\n",
    "outliers_fraction = 0.15\n",
    "n_outliers = int(outliers_fraction * n_samples)\n",
    "n_inliers = n_samples - n_outliers\n",
    "\n",
    "rng = np.random.RandomState(42)\n",
    "\n",
    "blobs_params = dict(random_state=0, \n",
    "                    n_samples=n_inliers, \n",
    "                    n_features=2)\n",
    "X, y = make_blobs(centers=[[0, 0], [0, 0]], \n",
    "                       cluster_std=0.5,\n",
    "                       **blobs_params)"
   ]
  },
  {
   "cell_type": "code",
   "execution_count": 77,
   "id": "4f48eed6",
   "metadata": {},
   "outputs": [
    {
     "data": {
      "text/plain": [
       "<matplotlib.collections.PathCollection at 0x7fea225e8410>"
      ]
     },
     "execution_count": 77,
     "metadata": {},
     "output_type": "execute_result"
    },
    {
     "data": {
      "image/png": "[encoded data removed]",
      "text/plain": [
       "<Figure size 432x288 with 1 Axes>"
      ]
     },
     "metadata": {
      "needs_background": "light"
     },
     "output_type": "display_data"
    }
   ],
   "source": [
    "pl.scatter(X[y==0,0], X[y==0,1])\n",
    "pl.scatter(X[y==1,0], X[y==1,1])"
   ]
  },
  {
   "cell_type": "code",
   "execution_count": 78,
   "id": "8f65b78d",
   "metadata": {},
   "outputs": [],
   "source": [
    "X, y = make_blobs(centers=[[-1, -1], [1, 1]], \n",
    "                       cluster_std=0.5,\n",
    "                       **blobs_params)"
   ]
  },
  {
   "cell_type": "code",
   "execution_count": 79,
   "id": "22daff2f",
   "metadata": {},
   "outputs": [
    {
     "data": {
      "text/plain": [
       "<matplotlib.collections.PathCollection at 0x7fea22702090>"
      ]
     },
     "execution_count": 79,
     "metadata": {},
     "output_type": "execute_result"
    },
    {
     "data": {
      "image/png": "[encoded data removed]",
      "text/plain": [
       "<Figure size 432x288 with 1 Axes>"
      ]
     },
     "metadata": {
      "needs_background": "light"
     },
     "output_type": "display_data"
    }
   ],
   "source": [
    "pl.scatter(X[y==0,0], X[y==0,1])\n",
    "pl.scatter(X[y==1,0], X[y==1,1])"
   ]
  },
  {
   "cell_type": "code",
   "execution_count": 85,
   "id": "4b45f7f8",
   "metadata": {},
   "outputs": [],
   "source": [
    "def make_target(X, degrees=1, coeffs=None):\n",
    "    \"\"\" Generate target for given numerical features.\"\"\"\n",
    "    y = X.copy()\n",
    "    if not coeffs:\n",
    "        coeffs = np.random.rand(degrees)\n",
    "        \n",
    "    for c in zip(coeffs):\n",
    "        y = c * y * y\n",
    "    return y"
   ]
  },
  {
   "cell_type": "code",
   "execution_count": 88,
   "id": "0c820317",
   "metadata": {},
   "outputs": [
    {
     "data": {
      "text/plain": [
       "(255, 2)"
      ]
     },
     "execution_count": 88,
     "metadata": {},
     "output_type": "execute_result"
    }
   ],
   "source": [
    "make_target(X, 3).shape"
   ]
  },
  {
   "cell_type": "code",
   "execution_count": 84,
   "id": "14e81bd3",
   "metadata": {},
   "outputs": [
    {
     "data": {
      "text/plain": [
       "(255, 2)"
      ]
     },
     "execution_count": 84,
     "metadata": {},
     "output_type": "execute_result"
    }
   ],
   "source": [
    "(X * X).shape"
   ]
  },
  {
   "cell_type": "code",
   "execution_count": null,
   "id": "6571bb9a",
   "metadata": {},
   "outputs": [],
   "source": [
    "X.cop"
   ]
  }
 ],
 "metadata": {
  "kernelspec": {
   "display_name": "Python 3",
   "language": "python",
   "name": "python3"
  },
  "language_info": {
   "codemirror_mode": {
    "name": "ipython",
    "version": 3
   },
   "file_extension": ".py",
   "mimetype": "text/x-python",
   "name": "python",
   "nbconvert_exporter": "python",
   "pygments_lexer": "ipython3",
   "version": "3.7.6"
  }
 },
 "nbformat": 4,
 "nbformat_minor": 5
}
